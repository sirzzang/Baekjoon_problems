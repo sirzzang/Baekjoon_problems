{
 "cells": [
  {
   "cell_type": "markdown",
   "metadata": {},
   "source": [
    "## 1. 이동 경로"
   ]
  },
  {
   "cell_type": "code",
   "execution_count": 1,
   "metadata": {},
   "outputs": [],
   "source": [
    "def Hanoi(n, start, end, spare):\n",
    "    if n == 1: # Base Case : 시작 기둥에서 목적지 기둥으로 바로 옮긴다.\n",
    "        print(start, \"->\", end) # 이동 경로\n",
    "        return\n",
    "    Hanoi(n-1, start, spare, end) # n-1개의 원판을 보조 기둥으로 옮긴다.\n",
    "    print(start, \"->\", end) # 이동 경로\n",
    "    Hanoi(n-1, spare, end, start) # 보조 기둥의 n-1개의 원판을 목적지 기둥으로 옮긴다."
   ]
  },
  {
   "cell_type": "code",
   "execution_count": 2,
   "metadata": {},
   "outputs": [
    {
     "name": "stdout",
     "output_type": "stream",
     "text": [
      "A -> C\n",
      "A -> B\n",
      "C -> B\n",
      "A -> C\n",
      "B -> A\n",
      "B -> C\n",
      "A -> C\n",
      "A -> B\n",
      "C -> B\n",
      "C -> A\n",
      "B -> A\n",
      "C -> B\n",
      "A -> C\n",
      "A -> B\n",
      "C -> B\n",
      "A -> C\n",
      "B -> A\n",
      "B -> C\n",
      "A -> C\n",
      "B -> A\n",
      "C -> B\n",
      "C -> A\n",
      "B -> A\n",
      "B -> C\n",
      "A -> C\n",
      "A -> B\n",
      "C -> B\n",
      "A -> C\n",
      "B -> A\n",
      "B -> C\n",
      "A -> C\n"
     ]
    }
   ],
   "source": [
    "Hanoi(5, \"A\", \"C\", \"B\")"
   ]
  },
  {
   "cell_type": "markdown",
   "metadata": {},
   "source": [
    "## 2. 이동 횟수"
   ]
  },
  {
   "cell_type": "markdown",
   "metadata": {},
   "source": [
    "### 2.1. 방법 1"
   ]
  },
  {
   "cell_type": "code",
   "execution_count": 3,
   "metadata": {},
   "outputs": [],
   "source": [
    "def Hanoi(n, start, end, spare):\n",
    "    if n == 1:\n",
    "        return 1\n",
    "    cnt = 0\n",
    "    cnt += Hanoi(n-1, start, spare, end)\n",
    "    cnt += 1\n",
    "    cnt += Hanoi(n-1, spare, end, start)\n",
    "    return cnt"
   ]
  },
  {
   "cell_type": "code",
   "execution_count": 4,
   "metadata": {
    "scrolled": true
   },
   "outputs": [
    {
     "name": "stdout",
     "output_type": "stream",
     "text": [
      "31\n"
     ]
    }
   ],
   "source": [
    "print(Hanoi(5, \"a\", \"c\", \"b\"))"
   ]
  },
  {
   "cell_type": "markdown",
   "metadata": {},
   "source": [
    "### 2.2. 방법 2"
   ]
  },
  {
   "cell_type": "code",
   "execution_count": 5,
   "metadata": {},
   "outputs": [],
   "source": [
    "def Hanoi(n, start, end, spare):\n",
    "    global cnt\n",
    "    if n == 1:\n",
    "        cnt += 1\n",
    "        return\n",
    "    else:\n",
    "        Hanoi(n-1, start, spare, end)\n",
    "        Hanoi(1, start, end, spare)\n",
    "        Hanoi(n-1, spare, end, start)"
   ]
  },
  {
   "cell_type": "code",
   "execution_count": 6,
   "metadata": {},
   "outputs": [],
   "source": [
    "def main(n):\n",
    "    Hanoi(n, \"a\", \"c\", \"b\")\n",
    "    return cnt"
   ]
  },
  {
   "cell_type": "code",
   "execution_count": 7,
   "metadata": {
    "scrolled": true
   },
   "outputs": [
    {
     "name": "stdout",
     "output_type": "stream",
     "text": [
      "31\n"
     ]
    }
   ],
   "source": [
    "cnt = 0\n",
    "print(main(5))"
   ]
  },
  {
   "cell_type": "markdown",
   "metadata": {},
   "source": [
    "### 2.3. 방법 3"
   ]
  },
  {
   "cell_type": "code",
   "execution_count": 8,
   "metadata": {},
   "outputs": [],
   "source": [
    "def Hanoi(n, start, end, spare):\n",
    "    if n == 0: # 옮길 원반이 없는 경우\n",
    "        return\n",
    "    global cnt\n",
    "    cnt += 1\n",
    "    Hanoi(n-1, start, spare, end)\n",
    "    if start: # 옮길 원반이 남아 있는 경우\n",
    "        end.append(start.pop())\n",
    "    Hanoi(n-1, spare, start, end)"
   ]
  },
  {
   "cell_type": "code",
   "execution_count": 9,
   "metadata": {},
   "outputs": [
    {
     "name": "stdout",
     "output_type": "stream",
     "text": [
      "31\n"
     ]
    }
   ],
   "source": [
    "n = 5\n",
    "A = list(range(n))\n",
    "B, C = [], []\n",
    "cnt = 0\n",
    "Hanoi(n, A, C, B)\n",
    "print(cnt)"
   ]
  },
  {
   "cell_type": "markdown",
   "metadata": {},
   "source": [
    "## 2.4. 방법 4"
   ]
  },
  {
   "cell_type": "code",
   "execution_count": 10,
   "metadata": {},
   "outputs": [],
   "source": [
    "def Hanoi(n, start, end, spare):    \n",
    "    global cnt\n",
    "    if n > 0 :\n",
    "        Hanoi(n-1, start, spare, end)\n",
    "        end.append(start.pop())\n",
    "        cnt += 1\n",
    "        Hanoi(n-1, spare, end, start)"
   ]
  },
  {
   "cell_type": "code",
   "execution_count": null,
   "metadata": {},
   "outputs": [],
   "source": [
    "num_cnts = []\n",
    "for n in range(1, 25):\n",
    "    A = list(range(n))\n",
    "    B, C = [], []\n",
    "    cnt = 0\n",
    "    Hanoi(n, A, C, B)\n",
    "    num_cnts.append(cnt)\n",
    "print(num_cnts)"
   ]
  }
 ],
 "metadata": {
  "kernelspec": {
   "display_name": "[CPU_ENV]",
   "language": "python",
   "name": "cpu_env"
  },
  "language_info": {
   "codemirror_mode": {
    "name": "ipython",
    "version": 3
   },
   "file_extension": ".py",
   "mimetype": "text/x-python",
   "name": "python",
   "nbconvert_exporter": "python",
   "pygments_lexer": "ipython3",
   "version": "3.6.9"
  }
 },
 "nbformat": 4,
 "nbformat_minor": 2
}
