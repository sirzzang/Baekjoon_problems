{
 "cells": [
  {
   "cell_type": "markdown",
   "metadata": {},
   "source": [
    "* 아래 풀이에서 고려하지 못한 경우의 수\n",
    "    - (0, 30, 1), (1, 29, 1), (29, 1, 1), (30, 0, 1) 등과 같이 극단적인 경우.\n",
    "        - 남자의 2배보다 여자가 많으면, 만들 수 있는 팀은 남자에 맞춰진다. (남자*2, 남자)\n",
    "        - 여자의 0.5배보다 남자가 많으면, 만들 수 있는 팀은 여자에 맞춰진다."
   ]
  },
  {
   "cell_type": "code",
   "execution_count": 7,
   "metadata": {},
   "outputs": [
    {
     "name": "stdout",
     "output_type": "stream",
     "text": [
      "29 1 1\n",
      "2 1\n",
      "최종 가능한 팀의 개수: 여2 남1\n",
      "남는 인원: 여27 남0\n",
      "빼야 할 인원: -26\n",
      "빼고 난 뒤 남은 인원: 여2 남1\n",
      "팀의 개수 : 1\n"
     ]
    }
   ],
   "source": [
    "N, M, K = map(int, input().split())\n",
    "\n",
    "w, m = 0, 0\n",
    "\n",
    "while w<N and m<M and w+m<N+M:\n",
    "    w+=2\n",
    "    m+=1\n",
    "    print(w, m)\n",
    "\n",
    "    \n",
    "print(f\"최종 가능한 팀의 개수: 여{w} 남{m}\")\n",
    "print(f\"남는 인원: 여{N-w} 남{M-m}\")\n",
    "# print(f\"빼야 할 인원: {K-(N-w)-(M-m)}\")\n",
    "K -= ((N-w)-(M-m))\n",
    "print(f\"빼야 할 인원: {K}\") \n",
    "\n",
    "while K > 0: # 빼야 할 인원이 없으면 진행하지 않는다.\n",
    "    print(\"여자를 1명 뺍니다.\")\n",
    "    w -= 1    \n",
    "    K -= 1\n",
    "    if K == 0:\n",
    "        break\n",
    "    print(\"여자를 1명 뺍니다.\")\n",
    "    w -= 1    \n",
    "    K -= 1\n",
    "    if K == 0:\n",
    "        break\n",
    "    print(\"이제 남자를 1명 뺍니다.\")\n",
    "    m -= 1\n",
    "    K -= 1\n",
    "    if K == 0:\n",
    "        break\n",
    "\n",
    "print(f\"빼고 난 뒤 남은 인원: 여{w} 남{m}\")\n",
    "print(f\"팀의 개수 : {min(w//2, m)}\")"
   ]
  },
  {
   "cell_type": "markdown",
   "metadata": {},
   "source": [
    "* 1차 제출 : 틀렸습니다.\n",
    "\n",
    "```\n",
    "N, M, K = map(int, input().split())\n",
    "\n",
    "w, m= 0, 0\n",
    "\n",
    "while w<N and m<M and w+m<N+M:\n",
    "    w+=2\n",
    "    m+=1\n",
    "\n",
    "K -= ((N-w)-(M-m))\n",
    "while K > 0: # 빼야 할 인원이 없으면 진행하지 않는다.\n",
    "    w -= 1    \n",
    "    K -= 1\n",
    "    if K == 0:\n",
    "        break\n",
    "    w -= 1    \n",
    "    K -= 1\n",
    "    if K == 0:\n",
    "        break\n",
    "    m -= 1\n",
    "    K -= 1\n",
    "    if K == 0:\n",
    "        break\n",
    "\n",
    "\n",
    "print(min(w//2, m))\n",
    "```"
   ]
  },
  {
   "cell_type": "markdown",
   "metadata": {},
   "source": [
    "* 아래 풀이에서 고려하지 못한 경우의 수\n",
    "    - (0, 30, 1), (1, 29, 1), (29, 1, 1), (30, 0, 1) 등과 같이 극단적인 경우.\n",
    "        - 남자의 2배보다 여자가 많으면, 만들 수 있는 팀은 남자에 맞춰진다. (남자*2, 남자)\n",
    "        - 여자의 0.5배보다 남자가 많으면, 만들 수 있는 팀은 여자에 맞춰진다.\n",
    "    - 아예 팀을 못 만드는 경우\n",
    "        - "
   ]
  },
  {
   "cell_type": "code",
   "execution_count": null,
   "metadata": {},
   "outputs": [],
   "source": [
    "# N, M, K = map(int, input().split())\n",
    "\n",
    "N, M = map(int, input().split())\n",
    "\n",
    "if N == 0 or N == 1 or M == 0:\n",
    "    print(\"팀을 만들 수 없습니다.\")\n",
    "    \n",
    "else:\n",
    "    if N > 2*M: # 여자가 더 많음.\n",
    "        while N != 2*M:\n",
    "            N -= 1        \n",
    "#         N -= 1\n",
    "#         cnt += 1\n",
    "#         w, m = 2*M, M\n",
    "    elif N < 2*M:\n",
    "        while N != *M:\n",
    "            M -= 1\n",
    "#         print(\"남자의 2배가 여자입니다.\")\n",
    "#         w, m = N, M\n",
    "\n",
    "    print(f\"팀 조합: 여{N} 남{M}\")"
   ]
  },
  {
   "cell_type": "code",
   "execution_count": null,
   "metadata": {},
   "outputs": [],
   "source": []
  }
 ],
 "metadata": {
  "kernelspec": {
   "display_name": "Python 3",
   "language": "python",
   "name": "python3"
  },
  "language_info": {
   "codemirror_mode": {
    "name": "ipython",
    "version": 3
   },
   "file_extension": ".py",
   "mimetype": "text/x-python",
   "name": "python",
   "nbconvert_exporter": "python",
   "pygments_lexer": "ipython3",
   "version": "3.7.7"
  }
 },
 "nbformat": 4,
 "nbformat_minor": 4
}
